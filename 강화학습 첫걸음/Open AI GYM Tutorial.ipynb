{
 "cells": [
  {
   "cell_type": "markdown",
   "id": "ce060a5f",
   "metadata": {},
   "source": [
    "# Gym tutorial"
   ]
  },
  {
   "cell_type": "markdown",
   "id": "05fd9ebb",
   "metadata": {},
   "source": [
    "Cart-Pole"
   ]
  },
  {
   "cell_type": "code",
   "execution_count": 10,
   "id": "84a81793",
   "metadata": {},
   "outputs": [],
   "source": [
    "import gym\n",
    "env = gym.make('CartPole-v0')\n",
    "env.reset()\n",
    "for _ in range(1000):\n",
    "    env.render()\n",
    "    env.step(env.action_space.sample()) # take a random action\n",
    "env.close()"
   ]
  }
 ],
 "metadata": {
  "kernelspec": {
   "display_name": "Python 3",
   "language": "python",
   "name": "python3"
  },
  "language_info": {
   "codemirror_mode": {
    "name": "ipython",
    "version": 3
   },
   "file_extension": ".py",
   "mimetype": "text/x-python",
   "name": "python",
   "nbconvert_exporter": "python",
   "pygments_lexer": "ipython3",
   "version": "3.8.8"
  }
 },
 "nbformat": 4,
 "nbformat_minor": 5
}
