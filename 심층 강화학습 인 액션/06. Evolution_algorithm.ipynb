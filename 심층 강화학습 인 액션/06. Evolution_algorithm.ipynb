{
 "cells": [
  {
   "cell_type": "code",
   "execution_count": 3,
   "id": "fd35b2c9",
   "metadata": {},
   "outputs": [],
   "source": [
    "import random\n",
    "from matplotlib import pyplot as plt\n",
    "from difflib import SequenceMatcher"
   ]
  },
  {
   "cell_type": "code",
   "execution_count": 4,
   "id": "5c16982f",
   "metadata": {},
   "outputs": [],
   "source": [
    "alphabet = \"abcdefghijklmnopqrstuvwxyzABCDEFGHIJKLMNOPQRSTUVWXYZ,.! \"\n",
    "target = \"Hello World!\""
   ]
  },
  {
   "cell_type": "code",
   "execution_count": 5,
   "id": "7c9688d7",
   "metadata": {},
   "outputs": [],
   "source": [
    "class Individual:\n",
    "    def __init__(self, string, fitness=0):\n",
    "        self.string = string\n",
    "        self.fitness = fitness"
   ]
  },
  {
   "cell_type": "code",
   "execution_count": 6,
   "id": "32b17bf9",
   "metadata": {},
   "outputs": [],
   "source": [
    "def similar(a, b):\n",
    "    return SequenceMatcher(None, a, b).ratio()"
   ]
  },
  {
   "cell_type": "code",
   "execution_count": 16,
   "id": "8072d78d",
   "metadata": {},
   "outputs": [],
   "source": [
    "def spawn_population(length=26, size=100):\n",
    "    pop = []\n",
    "    for i in range(size):\n",
    "        string = ''.join(random.choices(alphabet, k=length))\n",
    "        individual = Individual(string)\n",
    "        pop.append(individual)\n",
    "    return pop"
   ]
  },
  {
   "cell_type": "code",
   "execution_count": 11,
   "id": "ae400d33",
   "metadata": {},
   "outputs": [],
   "source": [
    "def recombine(p1_, p2_):\n",
    "    p1 = p1_.string\n",
    "    p2 = p2_.string\n",
    "    child1 = []\n",
    "    child2 = []\n",
    "    cross_pt = random.randint(0, len(p1))\n",
    "    child1.extend(p1[0:cross_pt])\n",
    "    child1.extend(p2[cross_pt:])\n",
    "    child2.extend(p2[0:cross_pt])\n",
    "    child2.extend(p1[cross_pt:])\n",
    "    c1 = Individual(''.join(child1))\n",
    "    c2 = Individual(''.join(child2))\n",
    "    return c1, c2"
   ]
  },
  {
   "cell_type": "code",
   "execution_count": 12,
   "id": "79cede2e",
   "metadata": {},
   "outputs": [],
   "source": [
    "def mutate(x, mut_rate=0.01):\n",
    "    new_x_ = []\n",
    "    for char in x.string:\n",
    "        if random.random() < mut_rate:\n",
    "            new_x_.extend(random.choices(alphabet, k=1))\n",
    "        else:\n",
    "            new_x_.append(char)\n",
    "    new_x = Individual(''.join(new_x_))\n",
    "    return new_x"
   ]
  },
  {
   "cell_type": "code",
   "execution_count": 13,
   "id": "6c2f4b34",
   "metadata": {},
   "outputs": [],
   "source": [
    "def evaluate_population(pop, target):\n",
    "    avg_fit = 0\n",
    "    for i in range(len(pop)):\n",
    "        fit = similar(pop[i].string, target)\n",
    "        pop[i].fitness = fit\n",
    "        avg_fit += fit\n",
    "    avg_fit /= len(pop)\n",
    "    return pop, avg_fit"
   ]
  },
  {
   "cell_type": "code",
   "execution_count": 25,
   "id": "5fe20c6c",
   "metadata": {},
   "outputs": [],
   "source": [
    "def next_generation(pop, size=100, length=26, mut_rate=0.01):\n",
    "    new_pop = []\n",
    "    while len(new_pop) < size:\n",
    "        parents = random.choices(pop, k=2, weights=[x.fitness for x in pop])\n",
    "        offspring_ = recombine(parents[0], parents[1])\n",
    "        child1 = mutate(offspring_[0], mut_rate=mut_rate)\n",
    "        child2 = mutate(offspring_[1], mut_rate=mut_rate)\n",
    "        offspring = [child1, child2]\n",
    "        new_pop.extend(offspring)\n",
    "    return new_pop"
   ]
  },
  {
   "cell_type": "code",
   "execution_count": 26,
   "id": "56bd4138",
   "metadata": {
    "scrolled": true
   },
   "outputs": [],
   "source": [
    "num_generations = 150\n",
    "population_size = 900\n",
    "str_len =  len(target)\n",
    "mutation_rate = 0.00001\n",
    "\n",
    "pop_fit = []\n",
    "pop = spawn_population(size=population_size, length=str_len)\n",
    "for gen in range(num_generations):\n",
    "    pop, avg_fit = evaluate_population(pop, target)\n",
    "    pop_fit.append(avg_fit)\n",
    "    new_pop = next_generation(pop, size=population_size, length=str_len, mut_rate=mutation_rate)\n",
    "    pop = new_pop"
   ]
  },
  {
   "cell_type": "code",
   "execution_count": 27,
   "id": "86a73d8f",
   "metadata": {},
   "outputs": [
    {
     "data": {
      "text/plain": [
       "'Helllo Wold!'"
      ]
     },
     "execution_count": 27,
     "metadata": {},
     "output_type": "execute_result"
    }
   ],
   "source": [
    "pop.sort(key=lambda x: x.fitness, reverse=True)\n",
    "pop[0].string"
   ]
  },
  {
   "cell_type": "code",
   "execution_count": 28,
   "id": "09b337ff",
   "metadata": {},
   "outputs": [
    {
     "data": {
      "text/plain": [
       "[<matplotlib.lines.Line2D at 0x19bcb3b6f48>]"
      ]
     },
     "execution_count": 28,
     "metadata": {},
     "output_type": "execute_result"
    },
    {
     "data": {
      "image/png": "[encoded data removed]",
      "text/plain": [
       "<Figure size 864x504 with 1 Axes>"
      ]
     },
     "metadata": {
      "needs_background": "light"
     },
     "output_type": "display_data"
    }
   ],
   "source": [
    "plt.figure(figsize=(12,7))\n",
    "plt.xlabel(\"Generations\",fontsize=22)\n",
    "plt.ylabel(\"Fitness\",fontsize=22)\n",
    "plt.plot(pop_fit)"
   ]
  },
  {
   "cell_type": "markdown",
   "id": "d6244a85",
   "metadata": {},
   "source": [
    "### Evolution_algorithm with CartPole"
   ]
  },
  {
   "cell_type": "code",
   "execution_count": 29,
   "id": "06039080",
   "metadata": {},
   "outputs": [],
   "source": [
    "import numpy as np\n",
    "import torch"
   ]
  },
  {
   "cell_type": "code",
   "execution_count": 30,
   "id": "597b1c45",
   "metadata": {},
   "outputs": [],
   "source": [
    "def model(x, unpacked_params):\n",
    "    l1, b1, l2, b2, l3, b3 = unpacked_params\n",
    "    y = torch.nn.functional.linear(x, l1, b1)\n",
    "    y = torch.relu(y)\n",
    "    y = torch.nn.functional.linear(y, l2, b2)\n",
    "    y = torch.relu(y)\n",
    "    y = torch.nn.functional.linear(y, l3, b3)\n",
    "    y = torch.log_softmax(y, dim=0)\n",
    "    return y"
   ]
  },
  {
   "cell_type": "code",
   "execution_count": 31,
   "id": "051c751c",
   "metadata": {},
   "outputs": [],
   "source": [
    "def unpack_params(params, layers=[(25,4),(10,25),(2,10)]):\n",
    "    unpacked_params = []\n",
    "    e = 0\n",
    "    for i, l in enumerate(layers):\n",
    "        s, e = e, e+np.prod(l)\n",
    "        weights = params[s:e].view(l)\n",
    "        s, e = e, e+l[0]\n",
    "        bias = params[s:e]\n",
    "        unpacked_params.extend([weights, bias])\n",
    "    return unpacked_params"
   ]
  },
  {
   "cell_type": "code",
   "execution_count": 32,
   "id": "c878d5e3",
   "metadata": {},
   "outputs": [],
   "source": [
    "def spawn_population(N=50, size=407):\n",
    "    pop = []\n",
    "    for i in range(N):\n",
    "        vec = torch.randn(size) / 2.0\n",
    "        fit = 0\n",
    "        p = { 'params':vec, 'fitness':fit }\n",
    "        pop.append(p)\n",
    "    return pop"
   ]
  },
  {
   "cell_type": "code",
   "execution_count": 38,
   "id": "f8323032",
   "metadata": {},
   "outputs": [],
   "source": [
    "def recombine(x1, x2):\n",
    "    x1 = x1['params']\n",
    "    x2 = x2['params']\n",
    "    l = x1.shape[0]\n",
    "    split_pt = np.random.randint(l)\n",
    "    child1 = torch.zeros(l)\n",
    "    child2 = torch.zeros(l)\n",
    "    child1[0:split_pt] = x1[0:split_pt]\n",
    "    child1[split_pt:] = x2[split_pt:]\n",
    "    child2[0:split_pt] = x2[0:split_pt]\n",
    "    child2[split_pt:] = x1[split_pt:]\n",
    "    c1 = { 'params':child1, 'fitness':0.0 }\n",
    "    c2 = { 'params':child2, 'fitness':0.0 }\n",
    "    return c1, c2"
   ]
  },
  {
   "cell_type": "code",
   "execution_count": 51,
   "id": "0472f6f8",
   "metadata": {},
   "outputs": [],
   "source": [
    "def mutate(x, mut_rate=0.01):\n",
    "    x_ = x['params']\n",
    "    num_to_change = int(mut_rate * x_.shape[0])\n",
    "    idx = np.random.randint(low=0, high=x_.shape[0], size=(num_to_change,))\n",
    "    x_[idx] = torch.randn(num_to_change) / 10.0\n",
    "    x['params'] = x_\n",
    "    return x"
   ]
  },
  {
   "cell_type": "code",
   "execution_count": 40,
   "id": "63a8152a",
   "metadata": {},
   "outputs": [],
   "source": [
    "import gym\n",
    "env = gym.make('CartPole-v0')"
   ]
  },
  {
   "cell_type": "code",
   "execution_count": 45,
   "id": "db9ab3a4",
   "metadata": {},
   "outputs": [],
   "source": [
    "def test_model(agent):\n",
    "    done = False\n",
    "    state = torch.from_numpy(env.reset()).float()\n",
    "    score = 0\n",
    "    while not done:\n",
    "        params = unpack_params(agent['params'])\n",
    "        probs = model(state, params)\n",
    "        action = torch.distributions.Categorical(probs=probs).sample()\n",
    "        state_, reward, done, info = env.step(action.item())\n",
    "        state = torch.from_numpy(state_).float()\n",
    "        score += 1\n",
    "    return score"
   ]
  },
  {
   "cell_type": "code",
   "execution_count": 42,
   "id": "8f3acd5b",
   "metadata": {},
   "outputs": [],
   "source": [
    "def evaluate_population(pop):\n",
    "    tot_fit = 0\n",
    "    lp = len(pop)\n",
    "    for agent in pop:\n",
    "        score = test_model(agent)\n",
    "        agent['fitness'] = score\n",
    "        tot_fit += score\n",
    "    avg_fit = tot_fit / lp\n",
    "    return pop, avg_fit"
   ]
  },
  {
   "cell_type": "code",
   "execution_count": 47,
   "id": "3fffbe04",
   "metadata": {},
   "outputs": [],
   "source": [
    "def next_generation(pop, mut_rate=0.001, tournament_size=0.2):\n",
    "    new_pop = []\n",
    "    lp = len(pop)\n",
    "    while len(new_pop) < len(pop):\n",
    "        rids = np.random.randint(low=0, high=lp, size=(int(tournament_size*lp)))\n",
    "        batch = np.array([[i, x['fitness']] for (i, x) in enumerate(pop) if i in rids])\n",
    "        scores = batch[batch[:, 1].argsort()]\n",
    "        i0, i1 = int(scores[-1][0]), int(scores[-2][0])\n",
    "        parent0, parent1 = pop[i0], pop[i1]\n",
    "        offspring_ = recombine(parent0, parent1)\n",
    "        child1 = mutate(offspring_[0], mut_rate=mut_rate)\n",
    "        child2 = mutate(offspring_[1], mut_rate=mut_rate)\n",
    "        offspring = [child1, child2]\n",
    "        new_pop.extend(offspring)\n",
    "    return new_pop"
   ]
  },
  {
   "cell_type": "code",
   "execution_count": 52,
   "id": "ac00afc6",
   "metadata": {
    "scrolled": true
   },
   "outputs": [],
   "source": [
    "num_generations = 25\n",
    "population_size = 500\n",
    "mutation_rate = 0.01\n",
    "pop_fit = []\n",
    "pop = spawn_population(N=population_size, size=407)\n",
    "for i in range(num_generations):\n",
    "    pop, avg_fit = evaluate_population(pop)\n",
    "    pop_fit.append(avg_fit)\n",
    "    pop = next_generation(pop, mut_rate=mutation_rate, tournament_size=0.2)"
   ]
  },
  {
   "cell_type": "code",
   "execution_count": 53,
   "id": "bdf57d4b",
   "metadata": {},
   "outputs": [],
   "source": [
    "def running_mean(x,n=5):\n",
    "    conv = np.ones(n)\n",
    "    y = np.zeros(x.shape[0]-n)\n",
    "    for i in range(x.shape[0]-n):\n",
    "        y[i] = (conv @ x[i:i+n]) / n\n",
    "    return y"
   ]
  },
  {
   "cell_type": "code",
   "execution_count": 54,
   "id": "4257da4a",
   "metadata": {},
   "outputs": [
    {
     "data": {
      "text/plain": [
       "[<matplotlib.lines.Line2D at 0x19bcfb59dc8>]"
      ]
     },
     "execution_count": 54,
     "metadata": {},
     "output_type": "execute_result"
    },
    {
     "data": {
      "image/png": "[encoded data removed]",
      "text/plain": [
       "<Figure size 864x504 with 1 Axes>"
      ]
     },
     "metadata": {
      "needs_background": "light"
     },
     "output_type": "display_data"
    }
   ],
   "source": [
    "plt.figure(figsize=(12,7))\n",
    "plt.xlabel(\"Generations\",fontsize=22)\n",
    "plt.ylabel(\"Score\",fontsize=22)\n",
    "plt.plot(running_mean(np.array(pop_fit),3))"
   ]
  }
 ],
 "metadata": {
  "kernelspec": {
   "display_name": "RL_env",
   "language": "python",
   "name": "rl_env"
  },
  "language_info": {
   "codemirror_mode": {
    "name": "ipython",
    "version": 3
   },
   "file_extension": ".py",
   "mimetype": "text/x-python",
   "name": "python",
   "nbconvert_exporter": "python",
   "pygments_lexer": "ipython3",
   "version": "3.7.11"
  }
 },
 "nbformat": 4,
 "nbformat_minor": 5
}
