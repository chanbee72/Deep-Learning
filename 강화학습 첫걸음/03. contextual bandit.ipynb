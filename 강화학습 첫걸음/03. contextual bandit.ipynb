{
 "cells": [
  {
   "cell_type": "markdown",
   "id": "424f10ec",
   "metadata": {},
   "source": [
    "# 03. 콘텍스트 밴딧 구현"
   ]
  },
  {
   "cell_type": "code",
   "execution_count": 1,
   "id": "f00ba4fe",
   "metadata": {},
   "outputs": [
    {
     "name": "stdout",
     "output_type": "stream",
     "text": [
      "WARNING:tensorflow:\n",
      "The TensorFlow contrib module will not be included in TensorFlow 2.0.\n",
      "For more information, please see:\n",
      "  * https://github.com/tensorflow/community/blob/master/rfcs/20180907-contrib-sunset.md\n",
      "  * https://github.com/tensorflow/addons\n",
      "  * https://github.com/tensorflow/io (for I/O related ops)\n",
      "If you depend on functionality not listed there, please file an issue.\n",
      "\n"
     ]
    }
   ],
   "source": [
    "import tensorflow as tf\n",
    "import tensorflow.contrib.slim as slim\n",
    "import numpy as np"
   ]
  },
  {
   "cell_type": "code",
   "execution_count": 2,
   "id": "ab68285a",
   "metadata": {},
   "outputs": [],
   "source": [
    "class contextual_bandit():\n",
    "    def __init__(self):\n",
    "        self.state = 0\n",
    "        self.bandits = np.array([[0.2, 0, -0.0, -5], [0.1, -5, 1, 0.25], [-5, 5, 5, 5]])\n",
    "        self.num_bandits = self.bandits.shape[0]\n",
    "        self.num_actions = self.bandits.shape[1]\n",
    "        \n",
    "    def getBandit(self):\n",
    "        self.state = np.random.randint(0, len(self.bandits))\n",
    "        return self.state\n",
    "    \n",
    "    def pullArm(self, action):\n",
    "        bandit = self.bandits[self.state, action]\n",
    "        result = np.random.randn(1)\n",
    "        if result > bandit:\n",
    "            return 1\n",
    "        else:\n",
    "            return -1"
   ]
  },
  {
   "cell_type": "code",
   "execution_count": 7,
   "id": "e95f546e",
   "metadata": {},
   "outputs": [],
   "source": [
    "class agent():\n",
    "    def __init__(self, lr, s_size, a_size):\n",
    "        self.state_in = tf.placeholder(shape = [1], dtype = tf.int32)\n",
    "        state_in_OH = slim.one_hot_encoding(self.state_in, s_size)\n",
    "        output = slim.fully_connected(state_in_OH, a_size, biases_initializer = None, \\\n",
    "                                      activation_fn = tf.nn.sigmoid, weights_initializer = tf.ones_initializer())\n",
    "        self.output = tf.reshape(output, [-1])\n",
    "        self.chosen_action = tf.argmax(self.output, 0)\n",
    "        \n",
    "        self.reward_holder = tf.placeholder(shape = [1], dtype = tf.float32)\n",
    "        self.action_holder = tf.placeholder(shape = [1], dtype = tf.int32)\n",
    "        self.responsible_weight = tf.slice(self.output, self.action_holder, [1])\n",
    "        self.loss = -(tf.log(self.responsible_weight) * self.reward_holder)\n",
    "        optimizer = tf.train.GradientDescentOptimizer(learning_rate = lr)\n",
    "        self.update = optimizer.minimize(self.loss)"
   ]
  },
  {
   "cell_type": "code",
   "execution_count": 9,
   "id": "6d4d71a5",
   "metadata": {},
   "outputs": [
    {
     "name": "stdout",
     "output_type": "stream",
     "text": [
      "Mean reward for each of the 3 bandits: [0.   0.   0.25]\n",
      "Mean reward for each of the 3 bandits: [30.25 40.5  37.5 ]\n",
      "Mean reward for each of the 3 bandits: [68.   77.75 74.  ]\n",
      "Mean reward for each of the 3 bandits: [106.25 117.5  108.5 ]\n",
      "Mean reward for each of the 3 bandits: [148.5  154.   143.75]\n",
      "Mean reward for each of the 3 bandits: [190.   185.75 181.5 ]\n",
      "Mean reward for each of the 3 bandits: [228.75 226.75 216.75]\n",
      "Mean reward for each of the 3 bandits: [268.5  261.5  254.75]\n",
      "Mean reward for each of the 3 bandits: [310.5  298.25 289.5 ]\n",
      "Mean reward for each of the 3 bandits: [347.25 338.25 324.75]\n",
      "Mean reward for each of the 3 bandits: [381.25 375.25 366.25]\n",
      "Mean reward for each of the 3 bandits: [418.5  411.5  400.75]\n",
      "Mean reward for each of the 3 bandits: [453.75 450.5  437.5 ]\n",
      "Mean reward for each of the 3 bandits: [486.75 489.75 473.75]\n",
      "Mean reward for each of the 3 bandits: [522.75 525.75 508.75]\n",
      "Mean reward for each of the 3 bandits: [561.5  558.5  542.25]\n",
      "Mean reward for each of the 3 bandits: [599.25 594.75 579.25]\n",
      "Mean reward for each of the 3 bandits: [635.   639.5  610.25]\n",
      "Mean reward for each of the 3 bandits: [674.75 672.75 643.25]\n",
      "Mean reward for each of the 3 bandits: [715.25 711.5  675.  ]\n",
      "The agent thinks action 4 for bandit 1 is the most promising....\n",
      "...and it was right!\n",
      "The agent thinks action 2 for bandit 2 is the most promising....\n",
      "...and it was right!\n",
      "The agent thinks action 1 for bandit 3 is the most promising....\n",
      "...and it was right!\n"
     ]
    }
   ],
   "source": [
    "tf.reset_default_graph()\n",
    "\n",
    "cBandit = contextual_bandit()\n",
    "myAgent = agent(lr = 0.001, s_size = cBandit.num_bandits, a_size = cBandit.num_actions)\n",
    "weights = tf.trainable_variables()[0]\n",
    "\n",
    "total_episodes = 10000\n",
    "total_reward = np.zeros([cBandit.num_bandits, cBandit.num_actions])\n",
    "e = 0.1\n",
    "\n",
    "init = tf.global_variables_initializer()\n",
    "\n",
    "with tf.Session() as sess:\n",
    "    sess.run(init)\n",
    "    i = 0\n",
    "    while i < total_episodes:\n",
    "        s = cBandit.getBandit()\n",
    "        \n",
    "        if np.random.rand(1) < e:\n",
    "            action = np.random.randint(cBandit.num_actions)\n",
    "        else:\n",
    "            action = sess.run(myAgent.chosen_action, feed_dict = {myAgent.state_in : [s]})\n",
    "            \n",
    "        reward = cBandit.pullArm(action)\n",
    "        \n",
    "        feed_dict = {myAgent.reward_holder : [reward], myAgent.action_holder : [action], myAgent.state_in : [s]}\n",
    "        _, ww = sess.run([myAgent.update, weights], feed_dict = feed_dict)\n",
    "        \n",
    "        total_reward[s, action] += reward\n",
    "        if i% 500 == 0:\n",
    "            print(\"Mean reward for each of the \" + str(cBandit.num_bandits) + \" bandits: \" + str(np.mean(total_reward, axis = 1)))\n",
    "        i += 1\n",
    "        \n",
    "for a in range(cBandit.num_bandits):\n",
    "    print(\"The agent thinks action \" + str(np.argmax(ww[a]) + 1) + \" for bandit \" + str(a + 1) + \" is the most promising....\")\n",
    "    if np.argmax(ww[a]) == np.argmin(cBandit.bandits[a]):\n",
    "        print(\"...and it was right!\")\n",
    "    else:\n",
    "        print(\"...and it was wrong!\")"
   ]
  }
 ],
 "metadata": {
  "kernelspec": {
   "display_name": "Python 3 (ipykernel)",
   "language": "python",
   "name": "python3"
  },
  "language_info": {
   "codemirror_mode": {
    "name": "ipython",
    "version": 3
   },
   "file_extension": ".py",
   "mimetype": "text/x-python",
   "name": "python",
   "nbconvert_exporter": "python",
   "pygments_lexer": "ipython3",
   "version": "3.7.11"
  }
 },
 "nbformat": 4,
 "nbformat_minor": 5
}
