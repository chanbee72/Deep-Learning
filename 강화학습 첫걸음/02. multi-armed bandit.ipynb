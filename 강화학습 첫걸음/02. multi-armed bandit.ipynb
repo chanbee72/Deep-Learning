{
 "cells": [
  {
   "cell_type": "markdown",
   "id": "7ee3acd2",
   "metadata": {},
   "source": [
    "# 02. 멀티암드 밴딧"
   ]
  },
  {
   "cell_type": "markdown",
   "id": "5dd064fb",
   "metadata": {},
   "source": [
    "멀티암드 밴딧\n",
    "- n개의 손잡이가 달린 밴딧 문제\n",
    "- 목표 : 가장 높은 보상을 제공하는 손잡이를 찾아 보상을 최대화\n",
    "- 시간 의존성, 상태 의존성을 고려하지 않음"
   ]
  },
  {
   "cell_type": "code",
   "execution_count": 3,
   "id": "1915a582",
   "metadata": {
    "scrolled": false
   },
   "outputs": [],
   "source": [
    "import tensorflow as tf\n",
    "import tensorflow.contrib.slim as slim\n",
    "import numpy as np"
   ]
  },
  {
   "cell_type": "code",
   "execution_count": 4,
   "id": "006aedf4",
   "metadata": {},
   "outputs": [],
   "source": [
    "import tensorflow.compat.v1 as tf\n",
    "tf.disable_v2_behavior()"
   ]
  },
  {
   "cell_type": "code",
   "execution_count": 5,
   "id": "c2f4ea4f",
   "metadata": {},
   "outputs": [],
   "source": [
    "bandit_arms = [0.2, 0, -0.2, -2]\n",
    "num_arms = len(bandit_arms)\n",
    "def pullBandit(bandit):\n",
    "    result = np.random.randn(1)\n",
    "    if result > bandit:\n",
    "        return 1\n",
    "    else:\n",
    "        return -1"
   ]
  },
  {
   "cell_type": "code",
   "execution_count": 6,
   "id": "583cc5e8",
   "metadata": {},
   "outputs": [],
   "source": [
    "tf.reset_default_graph()\n",
    "\n",
    "weights = tf.Variable(tf.ones([num_arms]))\n",
    "output = tf.nn.softmax(weights)\n",
    "\n",
    "reward_holder = tf.placeholder(shape=[1],dtype=tf.float32)\n",
    "action_holder = tf.placeholder(shape=[1],dtype=tf.int32)\n",
    "\n",
    "responsible_output = tf.slice(output,action_holder,[1])\n",
    "loss = -(tf.log(responsible_output)*reward_holder)\n",
    "optimizer = tf.train.AdamOptimizer(learning_rate=1e-3)\n",
    "update = optimizer.minimize(loss)"
   ]
  },
  {
   "cell_type": "code",
   "execution_count": 7,
   "id": "2ffecaae",
   "metadata": {},
   "outputs": [
    {
     "name": "stdout",
     "output_type": "stream",
     "text": [
      "Running reward for the 4 arms of the bandit: [1. 0. 0. 0.]\n",
      "Running reward for the 4 arms of the bandit: [-2. -2.  0. 11.]\n",
      "Running reward for the 4 arms of the bandit: [-7. -2.  4. 20.]\n",
      "Running reward for the 4 arms of the bandit: [-9. -3.  4. 31.]\n",
      "Running reward for the 4 arms of the bandit: [-10.   2.   1.  38.]\n",
      "Running reward for the 4 arms of the bandit: [-15.   5.   4.  45.]\n",
      "Running reward for the 4 arms of the bandit: [-14.   3.   9.  61.]\n",
      "Running reward for the 4 arms of the bandit: [-14.   4.  10.  73.]\n",
      "Running reward for the 4 arms of the bandit: [-11.  12.  11.  83.]\n",
      "Running reward for the 4 arms of the bandit: [-12.   2.  15.  94.]\n",
      "Running reward for the 4 arms of the bandit: [-15.  -5.  17. 104.]\n",
      "Running reward for the 4 arms of the bandit: [-21.  -8.  19. 121.]\n",
      "Running reward for the 4 arms of the bandit: [-29.  -5.  23. 130.]\n",
      "Running reward for the 4 arms of the bandit: [-33.  -6.  23. 149.]\n",
      "Running reward for the 4 arms of the bandit: [-39.  -6.  24. 160.]\n",
      "Running reward for the 4 arms of the bandit: [-43.  -3.  28. 175.]\n",
      "Running reward for the 4 arms of the bandit: [-45.  -1.  26. 191.]\n",
      "Running reward for the 4 arms of the bandit: [-38.   2.  27. 206.]\n",
      "Running reward for the 4 arms of the bandit: [-41.   3.  27. 224.]\n",
      "Running reward for the 4 arms of the bandit: [-47.  -3.  21. 236.]\n",
      "\n",
      "The agent thinks arm 4 is the most promising....\n",
      "...and it was right!\n"
     ]
    }
   ],
   "source": [
    "total_episodes = 1000\n",
    "total_reward = np.zeros(num_arms)\n",
    "\n",
    "init = tf.global_variables_initializer()\n",
    "\n",
    "with tf.Session() as sess:\n",
    "    sess.run(init)\n",
    "    i = 0\n",
    "    while i < total_episodes:\n",
    "        \n",
    "        actions = sess.run(output)\n",
    "        a = np.random.choice(actions,p=actions)\n",
    "        action = np.argmax(actions == a)\n",
    "\n",
    "        reward = pullBandit(bandit_arms[action])\n",
    "        \n",
    "        _,resp,ww = sess.run([update,responsible_output,weights], feed_dict={reward_holder:[reward],action_holder:[action]})\n",
    "        \n",
    "        total_reward[action] += reward\n",
    "        if i % 50 == 0:\n",
    "            print(\"Running reward for the \" + str(num_arms) + \" arms of the bandit: \" + str(total_reward))\n",
    "        i+=1\n",
    "print(\"\\nThe agent thinks arm \" + str(np.argmax(ww)+1) + \" is the most promising....\")\n",
    "if np.argmax(ww) == np.argmax(-np.array(bandit_arms)):\n",
    "    print(\"...and it was right!\")\n",
    "else:\n",
    "    print(\"...and it was wrong!\")"
   ]
  }
 ],
 "metadata": {
  "kernelspec": {
   "display_name": "Python 3 (ipykernel)",
   "language": "python",
   "name": "python3"
  },
  "language_info": {
   "codemirror_mode": {
    "name": "ipython",
    "version": 3
   },
   "file_extension": ".py",
   "mimetype": "text/x-python",
   "name": "python",
   "nbconvert_exporter": "python",
   "pygments_lexer": "ipython3",
   "version": "3.7.11"
  }
 },
 "nbformat": 4,
 "nbformat_minor": 5
}
