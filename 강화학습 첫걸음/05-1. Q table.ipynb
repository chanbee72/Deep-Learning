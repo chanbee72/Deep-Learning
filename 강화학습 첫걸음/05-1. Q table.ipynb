{
 "cells": [
  {
   "cell_type": "markdown",
   "id": "1c95a1bd",
   "metadata": {},
   "source": [
    "# 05-1. Q table"
   ]
  },
  {
   "cell_type": "code",
   "execution_count": 15,
   "id": "9db8d208",
   "metadata": {},
   "outputs": [],
   "source": [
    "import gym\n",
    "import numpy as np\n",
    "import random\n",
    "import matplotlib.pyplot as plt\n",
    "%matplotlib inline"
   ]
  },
  {
   "cell_type": "code",
   "execution_count": 23,
   "id": "4ca67d44",
   "metadata": {},
   "outputs": [],
   "source": [
    "env = gym.make('FrozenLake-v1')"
   ]
  },
  {
   "cell_type": "code",
   "execution_count": 33,
   "id": "f15cea98",
   "metadata": {},
   "outputs": [],
   "source": [
    "Q = np.zeros([env.observation_space.n,env.action_space.n])\n",
    "\n",
    "lr = .8\n",
    "y = .95\n",
    "num_episodes = 2000\n",
    "\n",
    "rList = []\n",
    "for i in range(num_episodes):\n",
    "\n",
    "    s = env.reset()\n",
    "    rAll = 0\n",
    "    d = False\n",
    "    j = 0\n",
    "\n",
    "    while j < 99:\n",
    "        j+=1\n",
    "\n",
    "        a = np.argmax(Q[s,:] + np.random.randn(1,env.action_space.n)*(1./(i+1)))\n",
    "\n",
    "        s1,r,d,_ = env.step(a)\n",
    "\n",
    "        Q[s,a] = Q[s,a] + lr*(r + y*np.max(Q[s1,:]) - Q[s,a])\n",
    "        rAll += r\n",
    "        s = s1\n",
    "        if d == True:\n",
    "            break\n",
    "\n",
    "    rList.append(rAll)"
   ]
  },
  {
   "cell_type": "code",
   "execution_count": 34,
   "id": "4312ae27",
   "metadata": {
    "scrolled": true
   },
   "outputs": [
    {
     "name": "stdout",
     "output_type": "stream",
     "text": [
      "Score over time: 0.4515\n"
     ]
    }
   ],
   "source": [
    "print(\"Score over time: \" + str(sum(rList) / num_episodes))"
   ]
  },
  {
   "cell_type": "code",
   "execution_count": 36,
   "id": "c77ffa72",
   "metadata": {
    "scrolled": false
   },
   "outputs": [
    {
     "name": "stdout",
     "output_type": "stream",
     "text": [
      "Final Q-Table Values\n",
      "[[1.98888526e-01 3.69880186e-03 3.14228988e-03 4.87821304e-03]\n",
      " [1.08817165e-03 8.12421098e-04 2.60666338e-03 4.07098415e-03]\n",
      " [1.11611627e-03 2.72139781e-03 3.38485178e-03 1.56066145e-03]\n",
      " [1.93019654e-03 3.81648844e-04 3.63625077e-04 4.79166222e-03]\n",
      " [8.95590242e-02 3.88384873e-04 1.56427072e-03 2.96356725e-04]\n",
      " [0.00000000e+00 0.00000000e+00 0.00000000e+00 0.00000000e+00]\n",
      " [1.19515216e-03 2.68021103e-05 3.01609400e-04 1.31093473e-04]\n",
      " [0.00000000e+00 0.00000000e+00 0.00000000e+00 0.00000000e+00]\n",
      " [0.00000000e+00 2.94903452e-03 9.95963183e-04 4.15356652e-01]\n",
      " [1.74072025e-03 2.09314611e-01 0.00000000e+00 0.00000000e+00]\n",
      " [1.52860668e-03 2.72510900e-02 2.14648581e-04 3.58665218e-04]\n",
      " [0.00000000e+00 0.00000000e+00 0.00000000e+00 0.00000000e+00]\n",
      " [0.00000000e+00 0.00000000e+00 0.00000000e+00 0.00000000e+00]\n",
      " [1.10829213e-03 0.00000000e+00 6.86023139e-01 1.45827912e-03]\n",
      " [0.00000000e+00 0.00000000e+00 0.00000000e+00 9.77498453e-01]\n",
      " [0.00000000e+00 0.00000000e+00 0.00000000e+00 0.00000000e+00]]\n"
     ]
    }
   ],
   "source": [
    "print(\"Final Q-Table Values\")\n",
    "print(Q)"
   ]
  },
  {
   "cell_type": "code",
   "execution_count": 39,
   "id": "d5d493f1",
   "metadata": {},
   "outputs": [
    {
     "data": {
      "text/plain": [
       "array([0.19888853, 0.0036988 , 0.00314229, 0.00487821])"
      ]
     },
     "execution_count": 39,
     "metadata": {},
     "output_type": "execute_result"
    }
   ],
   "source": [
    "Q[0,:]"
   ]
  },
  {
   "cell_type": "code",
   "execution_count": 40,
   "id": "aa7a9903",
   "metadata": {},
   "outputs": [
    {
     "data": {
      "text/plain": [
       "array([[1.98888526e-01, 3.69880186e-03, 3.14228988e-03, 4.87821304e-03],\n",
       "       [1.08817165e-03, 8.12421098e-04, 2.60666338e-03, 4.07098415e-03],\n",
       "       [1.11611627e-03, 2.72139781e-03, 3.38485178e-03, 1.56066145e-03],\n",
       "       [1.93019654e-03, 3.81648844e-04, 3.63625077e-04, 4.79166222e-03],\n",
       "       [8.95590242e-02, 3.88384873e-04, 1.56427072e-03, 2.96356725e-04],\n",
       "       [0.00000000e+00, 0.00000000e+00, 0.00000000e+00, 0.00000000e+00],\n",
       "       [1.19515216e-03, 2.68021103e-05, 3.01609400e-04, 1.31093473e-04],\n",
       "       [0.00000000e+00, 0.00000000e+00, 0.00000000e+00, 0.00000000e+00],\n",
       "       [0.00000000e+00, 2.94903452e-03, 9.95963183e-04, 4.15356652e-01],\n",
       "       [1.74072025e-03, 2.09314611e-01, 0.00000000e+00, 0.00000000e+00],\n",
       "       [1.52860668e-03, 2.72510900e-02, 2.14648581e-04, 3.58665218e-04],\n",
       "       [0.00000000e+00, 0.00000000e+00, 0.00000000e+00, 0.00000000e+00],\n",
       "       [0.00000000e+00, 0.00000000e+00, 0.00000000e+00, 0.00000000e+00],\n",
       "       [1.10829213e-03, 0.00000000e+00, 6.86023139e-01, 1.45827912e-03],\n",
       "       [0.00000000e+00, 0.00000000e+00, 0.00000000e+00, 9.77498453e-01],\n",
       "       [0.00000000e+00, 0.00000000e+00, 0.00000000e+00, 0.00000000e+00]])"
      ]
     },
     "execution_count": 40,
     "metadata": {},
     "output_type": "execute_result"
    }
   ],
   "source": [
    "Q"
   ]
  },
  {
   "cell_type": "code",
   "execution_count": 44,
   "id": "f819074a",
   "metadata": {},
   "outputs": [],
   "source": [
    "a = np.random.randn(1,4)"
   ]
  },
  {
   "cell_type": "code",
   "execution_count": 45,
   "id": "0cfcfa1e",
   "metadata": {},
   "outputs": [
    {
     "name": "stdout",
     "output_type": "stream",
     "text": [
      "[[ 1.59538742  0.2291119   0.16710508 -0.09120291]]\n",
      "[[ 0.79769371  0.11455595  0.08355254 -0.04560146]]\n"
     ]
    }
   ],
   "source": [
    "print(a)\n",
    "print(a*(1/2))"
   ]
  },
  {
   "cell_type": "code",
   "execution_count": 47,
   "id": "92792096",
   "metadata": {},
   "outputs": [
    {
     "data": {
      "text/plain": [
       "0"
      ]
     },
     "execution_count": 47,
     "metadata": {},
     "output_type": "execute_result"
    }
   ],
   "source": [
    "np.argmax(Q[s,:] + a*(1/4))"
   ]
  },
  {
   "cell_type": "code",
   "execution_count": null,
   "id": "7aa5931c",
   "metadata": {},
   "outputs": [],
   "source": []
  }
 ],
 "metadata": {
  "kernelspec": {
   "display_name": "Python 3",
   "language": "python",
   "name": "python3"
  },
  "language_info": {
   "codemirror_mode": {
    "name": "ipython",
    "version": 3
   },
   "file_extension": ".py",
   "mimetype": "text/x-python",
   "name": "python",
   "nbconvert_exporter": "python",
   "pygments_lexer": "ipython3",
   "version": "3.8.8"
  }
 },
 "nbformat": 4,
 "nbformat_minor": 5
}
