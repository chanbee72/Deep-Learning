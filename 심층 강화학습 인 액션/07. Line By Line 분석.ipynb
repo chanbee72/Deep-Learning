{
 "cells": [
  {
   "cell_type": "code",
   "execution_count": 3,
   "id": "f0090372",
   "metadata": {},
   "outputs": [
    {
     "data": {
      "text/plain": [
       "<BarContainer object of 51 artists>"
      ]
     },
     "execution_count": 3,
     "metadata": {},
     "output_type": "execute_result"
    },
    {
     "data": {
      "image/png": "[encoded data removed]",
      "text/plain": [
       "<Figure size 432x288 with 1 Axes>"
      ]
     },
     "metadata": {
      "needs_background": "light"
     },
     "output_type": "display_data"
    }
   ],
   "source": [
    "import numpy as np\n",
    "import torch\n",
    "from matplotlib import pyplot as plt\n",
    "\n",
    "import os\n",
    "os.environ['KMP_DUPLICATE_LIB_OK']='True'\n",
    "\n",
    "vmin, vmax = -10, 10   # 지지집합의 범위 ( -10 ~ 10 ) : 보상 범위\n",
    "nsup = 51              # 지지집합의 요소 개수\n",
    "# 지지집합 생성\n",
    "support = np.linspace(vmin, vmax, nsup)\n",
    "\n",
    "# 확률 생성 ( 초기값 균등 분포 )\n",
    "probs = np.ones(nsup)\n",
    "probs /= probs.sum()\n",
    "z3 = torch.from_numpy(probs).float()\n",
    "plt.bar(support, probs)"
   ]
  },
  {
   "cell_type": "code",
   "execution_count": 4,
   "id": "c5270daf",
   "metadata": {},
   "outputs": [],
   "source": [
    "# 확률 분포 갱신 함수\n",
    "# r : 보상, support : 지지집합, probs : 확률, lim : 지지집합 범위, gamma : 할인 계수\n",
    "def update_dist(r, support, probs, lim=(-10, 10), gamma=0.8):\n",
    "# 변수 설정\n",
    "    # nsup : 지지 집합 크기, vmin, vmax : 지지 집합의 최솟값, 최댓값, dz : 지지 집합의 공차\n",
    "    nsup = probs.shape[0]\n",
    "    vmin, vmax = lim[0], lim[1]\n",
    "    dz = (vmax - vmin)/(nsup-1.)\n",
    "    \n",
    "    # 보상에 해당하는 인덱스 추출\n",
    "    bj = np.round((r-vmin)/dz)\n",
    "    bj = int(np.clip(bj, 0, nsup-1))\n",
    "    \n",
    "    # 갱신할 분포\n",
    "    m = probs.clone()\n",
    "    \n",
    "    # bj의 왼쪽 값의 확률 갱신 \n",
    "    # gamma의 값이 클수록 갱신된 bj의 값이 커짐\n",
    "    j = 1\n",
    "    for i in range(bj, 1, -1):\n",
    "        m[i] += np.power(gamma, j) * m[i-1]\n",
    "        j += 1\n",
    "        \n",
    "    # bj의 오른쪽 값의 확률 갱신\n",
    "    j = 1\n",
    "    for i in range(bj, nsup-1, 1):\n",
    "        m[i] += np.power(gamma, j) * m[i+1]\n",
    "        j += 1\n",
    "        \n",
    "    # 확률의 합이 1이 되도록 조정\n",
    "    m /= m.sum()\n",
    "    \n",
    "    return m"
   ]
  },
  {
   "cell_type": "code",
   "execution_count": 17,
   "id": "3edcc28f",
   "metadata": {},
   "outputs": [],
   "source": [
    "# 분포 DQN\n",
    "# x : 상태 벡터, theta : 신경망 매개변수, aspace : 동작의 수\n",
    "def dist_dqn(x, theta, aspace=3):\n",
    "    # 신경망의 차원 설정\n",
    "    dim0, dim1, dim2, dim3 = 128, 100, 25, 51\n",
    "    \n",
    "    # theta를 층별로 분해\n",
    "    t1 = dim0 * dim1\n",
    "    t2 = dim2 * dim1\n",
    "    theta1 = theta[0:t1].reshape(dim0, dim1)\n",
    "    theta2 = theta[t1:t1+t2].reshape(dim1, dim2)\n",
    "    \n",
    "    # 신경망 통과\n",
    "    l1 = x @ theta1\n",
    "    l1 = torch.selu(l1)\n",
    "    l2 = l1 @ theta2\n",
    "    l2 = torch.selu(l2)\n",
    "    l3 = []\n",
    "    # 마지막 층은 동작마다 신경망 계산\n",
    "    for i in range(aspace):\n",
    "        # i번째 동작에 해당하는 신경망 매개변수 추출\n",
    "        step = dim2 * dim3\n",
    "        theta5_dim = t1 + t2 + i * step\n",
    "        theta5 = theta[theta5_dim:theta5_dim+step].reshape(dim2, dim3)\n",
    "        # 신경망 통과 후 l3에 저장\n",
    "        l3_ = l2 @ theta5\n",
    "        l3.append(l3_)\n",
    "        \n",
    "    # 차원 증가 후 softmax로 확률을 반환\n",
    "    l3 = torch.stack(l3, dim=1)\n",
    "    l3 = torch.nn.functional.softmax(l3, dim=2)\n",
    "    \n",
    "    return l3.squeeze()"
   ]
  },
  {
   "cell_type": "code",
   "execution_count": 21,
   "id": "6e3543c5",
   "metadata": {},
   "outputs": [],
   "source": [
    "# 목표 분포 계산\n",
    "def get_target_dist(dist_batch, action_batch, reward_batch, support, lim=(-10,10), gamma=0.8):\n",
    "    # 변수 설정\n",
    "    # nsup : 지지 집합 크기, vmin, vmax : 지지 집합의 최솟값, 최댓값, dz : 지지 집합의 공차, target_dist_batch : 목표 분포\n",
    "    nsup = support.shape[0]\n",
    "    vmin, vmax = lim[0], lim[1]\n",
    "    dz = (vmax-vmin)/(nsup-1.)\n",
    "    target_dist_batch = dist_batch.clone()\n",
    "    \n",
    "    # 배치 크기만큼 목표 분포 갱신\n",
    "    for i in range(dist_batch.shape[0]):\n",
    "        # i번째 분포에서 액션에 해당하는 분포와 보상 추출\n",
    "        dist_full = dist_batch[i]\n",
    "        action = int(action_batch[i].item())\n",
    "        dist = dist_full[action]\n",
    "        r = reward_batch[i]\n",
    "        \n",
    "        # r != -1 : 마지막 상태\n",
    "        # 마지막 상태에서는 퇴화 확률 분포\n",
    "        if r != -1:\n",
    "            target_dist = torch.zeros(nsup)\n",
    "            bj = np.round((r-vmin)/dz)\n",
    "            bj = int(np.clip(bj, 0, nsup-1))\n",
    "            target_dist[bj] = 1.\n",
    "        # 진행 상태에서는 보상을 통해 분포 갱신\n",
    "        else:\n",
    "            target_dist = update_dist(r, support, dist, lim=lim, gamma=gamma)\n",
    "            \n",
    "        target_dist_batch[i, action, ] = target_dist\n",
    "        \n",
    "    return target_dist_batch"
   ]
  },
  {
   "cell_type": "code",
   "execution_count": 22,
   "id": "1bd03b7c",
   "metadata": {},
   "outputs": [],
   "source": [
    "# 손실 함수 ( 교차 엔트로피 손실 함수)\n",
    "def lossfn(x, y):\n",
    "    loss = torch.Tensor([0.])\n",
    "    loss.requires_grad = True\n",
    "    \n",
    "    # 배치 크기만큼 계산\n",
    "    for i in range(x.shape[0]):\n",
    "        loss_= -1 * torch.log(x[i].flatten(start_dim=0)) @ y[i].flatten(start_dim=0)\n",
    "        loss = loss + loss_\n",
    "        \n",
    "    return loss"
   ]
  },
  {
   "cell_type": "code",
   "execution_count": 27,
   "id": "477b3a34",
   "metadata": {},
   "outputs": [
    {
     "data": {
      "text/plain": [
       "<matplotlib.legend.Legend at 0x1ba22a9b948>"
      ]
     },
     "execution_count": 27,
     "metadata": {},
     "output_type": "execute_result"
    },
    {
     "data": {
      "image/png": "[encoded data removed]",
      "text/plain": [
       "<Figure size 432x288 with 1 Axes>"
      ]
     },
     "metadata": {
      "needs_background": "light"
     },
     "output_type": "display_data"
    }
   ],
   "source": [
    "# test\n",
    "aspace = 3                                    # 동작 개수\n",
    "tot_params = 128*100 + 25*100 + aspace*25*51 # 신경망 매개변수 수\n",
    "theta = torch.randn(tot_params)/10.           # 신경망 매개변수 랜덤 초기화\n",
    "theta.requires_grad = True\n",
    "theta_2 = theta.detach().clone()              # 목표 신경망 매개변수\n",
    "\n",
    "vmin, vmax = -10, 10                   # 지지집합의 최솟값, 최댓값\n",
    "gamma = 0.9                            # 할인 계수\n",
    "lr = 0.00001                           # 학습률\n",
    "update_rate = 75                       # 주 신경망 갱신 간격\n",
    "support = torch.linspace(-10, 10, 51)  # 지지집합 생성 ( 최솟값, 최댓값, 개수 )\n",
    "state = torch.randn(2, 128)/10.        # 상태 2개 랜덤 초기화 ( 시험용 )\n",
    "action_batch = torch.Tensor([0, 2])    # 액션 배치\n",
    "reward_batch = torch.Tensor([0, 10])   # 보상 배치\n",
    "losses = []                            # 손실\n",
    "pred_batch = dist_dqn(state, theta, aspace=aspace) # 예측 배치\n",
    "target_dist = get_target_dist(pred_batch, action_batch, reward_batch, support, lim=(vmin, vmax), gamma = gamma)  # 목표 분산\n",
    "\n",
    "# 시각화\n",
    "plt.plot((target_dist.flatten(start_dim=1)[0].data.numpy()), color='red', label='target')\n",
    "plt.plot((pred_batch.flatten(start_dim=1)[0].data.numpy()), color='green', label='pred')\n",
    "plt.legend()"
   ]
  },
  {
   "cell_type": "code",
   "execution_count": 33,
   "id": "df3f374b",
   "metadata": {},
   "outputs": [
    {
     "data": {
      "text/plain": [
       "[<matplotlib.lines.Line2D at 0x1ba242eab88>]"
      ]
     },
     "execution_count": 33,
     "metadata": {},
     "output_type": "execute_result"
    },
    {
     "data": {
      "image/png": "[encoded data removed]",
      "text/plain": [
       "<Figure size 432x288 with 2 Axes>"
      ]
     },
     "metadata": {
      "needs_background": "light"
     },
     "output_type": "display_data"
    }
   ],
   "source": [
    "# 훈련\n",
    "for i in range(1000):\n",
    "    # 잡음을 추가한 보상 배치 생성\n",
    "    reward_batch = torch.Tensor([0, 8]) + torch.randn(2)/10.0\n",
    "    # 분포 예측 ( 주 신경망 )\n",
    "    pred_batch = dist_dqn(state, theta, aspace=aspace)\n",
    "    # 분포 예측 ( 목표망 )\n",
    "    pred_batch2 = dist_dqn(state, theta_2, aspace=aspace)\n",
    "    # 목표 분포\n",
    "    target_dist = get_target_dist(pred_batch2, action_batch, reward_batch, support, lim=(vmin,vmax), gamma=gamma)\n",
    "    # 손실 계산\n",
    "    loss = lossfn(pred_batch, target_dist.detach())\n",
    "    losses.append(loss.item())\n",
    "    loss.backward()\n",
    "    \n",
    "    # 경사 하강법으로 주 신경망 갱신\n",
    "    with torch.no_grad():\n",
    "        theta -= lr * theta.grad\n",
    "    theta.requires_grad = True\n",
    "    \n",
    "    # 목표망 업데이트\n",
    "    if i % update_rate == 0:\n",
    "        theta_2 = theta.detach().clone()\n",
    "        \n",
    "# 시각화\n",
    "fig, ax = plt.subplots(1, 2)\n",
    "ax[0].plot((target_dist.flatten(start_dim=1)[0].data.numpy()), color='red', label='target')\n",
    "ax[0].plot((pred_batch.flatten(start_dim=1)[0].data.numpy()), color='green', label='pred')\n",
    "ax[1].plot(losses)"
   ]
  },
  {
   "cell_type": "code",
   "execution_count": 44,
   "id": "534776da",
   "metadata": {},
   "outputs": [
    {
     "data": {
      "image/png": "[encoded data removed]",
      "text/plain": [
       "<Figure size 432x288 with 6 Axes>"
      ]
     },
     "metadata": {
      "needs_background": "light"
     },
     "output_type": "display_data"
    }
   ],
   "source": [
    "# 학습된 동작 가치 분포의 시각화\n",
    "tpred = pred_batch\n",
    "cs = ['gray', 'green', 'red']\n",
    "num_batch = 2\n",
    "labels = ['Action {}'.format(i,) for i in range(aspace)]\n",
    "fig, ax = plt.subplots(nrows=num_batch, ncols=aspace)\n",
    "\n",
    "for j in range(num_batch):\n",
    "    for i in range(tpred.shape[1]):\n",
    "        ax[j,i].bar(support.data.numpy(), tpred[j, i, :].data.numpy(), label='Action {}'.format(i), alpha=0.9, color=cs[i])"
   ]
  },
  {
   "cell_type": "code",
   "execution_count": 46,
   "id": "c4c5e3b2",
   "metadata": {},
   "outputs": [],
   "source": [
    "# 상태 전처리\n",
    "def preproc_state(state):\n",
    "    p_state = torch.from_numpy(state).unsqueeze(dim=0).float()\n",
    "    p_state = torch.nn.functional.normalize(p_state, dim=1)\n",
    "    return p_state"
   ]
  },
  {
   "cell_type": "code",
   "execution_count": 47,
   "id": "ee111526",
   "metadata": {},
   "outputs": [],
   "source": [
    "# 동작 선택\n",
    "def get_action(dist, support):\n",
    "    actions = []\n",
    "    # 배치 크기만큼 반복\n",
    "    for b in range(dist.shape[0]):\n",
    "        # 각 동장에 대한 기댓값 계산\n",
    "        expectations = [support @ dist[b, a, :] for a in range(dist.shape[1])]\n",
    "        # 기댓값이 가장 큰 동작 선택\n",
    "        action = int(np.argmax(expectations))\n",
    "        actions.append(action)\n",
    "    actions = torch.Tensor(actions).int()\n",
    "    return actions"
   ]
  },
  {
   "cell_type": "code",
   "execution_count": 49,
   "id": "473b6ee2",
   "metadata": {},
   "outputs": [
    {
     "ename": "UnregisteredEnv",
     "evalue": "No registered env with id: Freeway-ram-v0",
     "output_type": "error",
     "traceback": [
      "\u001b[1;31m---------------------------------------------------------------------------\u001b[0m",
      "\u001b[1;31mKeyError\u001b[0m                                  Traceback (most recent call last)",
      "\u001b[1;32m~\\anaconda3\\envs\\RL_env\\lib\\site-packages\\gym\\envs\\registration.py\u001b[0m in \u001b[0;36mspec\u001b[1;34m(self, path)\u001b[0m\n\u001b[0;32m    157\u001b[0m         \u001b[1;32mtry\u001b[0m\u001b[1;33m:\u001b[0m\u001b[1;33m\u001b[0m\u001b[1;33m\u001b[0m\u001b[0m\n\u001b[1;32m--> 158\u001b[1;33m             \u001b[1;32mreturn\u001b[0m \u001b[0mself\u001b[0m\u001b[1;33m.\u001b[0m\u001b[0menv_specs\u001b[0m\u001b[1;33m[\u001b[0m\u001b[0mid\u001b[0m\u001b[1;33m]\u001b[0m\u001b[1;33m\u001b[0m\u001b[1;33m\u001b[0m\u001b[0m\n\u001b[0m\u001b[0;32m    159\u001b[0m         \u001b[1;32mexcept\u001b[0m \u001b[0mKeyError\u001b[0m\u001b[1;33m:\u001b[0m\u001b[1;33m\u001b[0m\u001b[1;33m\u001b[0m\u001b[0m\n",
      "\u001b[1;31mKeyError\u001b[0m: 'Freeway-ram-v0'",
      "\nDuring handling of the above exception, another exception occurred:\n",
      "\u001b[1;31mUnregisteredEnv\u001b[0m                           Traceback (most recent call last)",
      "\u001b[1;32m~\\AppData\\Local\\Temp/ipykernel_9456/1609811731.py\u001b[0m in \u001b[0;36m<module>\u001b[1;34m\u001b[0m\n\u001b[0;32m      2\u001b[0m \u001b[1;32mimport\u001b[0m \u001b[0mgym\u001b[0m\u001b[1;33m\u001b[0m\u001b[1;33m\u001b[0m\u001b[0m\n\u001b[0;32m      3\u001b[0m \u001b[1;32mfrom\u001b[0m \u001b[0mcollections\u001b[0m \u001b[1;32mimport\u001b[0m \u001b[0mdeque\u001b[0m\u001b[1;33m\u001b[0m\u001b[1;33m\u001b[0m\u001b[0m\n\u001b[1;32m----> 4\u001b[1;33m \u001b[0menv\u001b[0m \u001b[1;33m=\u001b[0m \u001b[0mgym\u001b[0m\u001b[1;33m.\u001b[0m\u001b[0mmake\u001b[0m\u001b[1;33m(\u001b[0m\u001b[1;34m'Freeway-ram-v0'\u001b[0m\u001b[1;33m)\u001b[0m\u001b[1;33m\u001b[0m\u001b[1;33m\u001b[0m\u001b[0m\n\u001b[0m\u001b[0;32m      5\u001b[0m \u001b[0maspace\u001b[0m \u001b[1;33m=\u001b[0m \u001b[1;36m3\u001b[0m\u001b[1;33m\u001b[0m\u001b[1;33m\u001b[0m\u001b[0m\n\u001b[0;32m      6\u001b[0m \u001b[0menv\u001b[0m\u001b[1;33m.\u001b[0m\u001b[0menv\u001b[0m\u001b[1;33m.\u001b[0m\u001b[0mget_action_meanings\u001b[0m\u001b[1;33m(\u001b[0m\u001b[1;33m)\u001b[0m\u001b[1;33m\u001b[0m\u001b[1;33m\u001b[0m\u001b[0m\n",
      "\u001b[1;32m~\\anaconda3\\envs\\RL_env\\lib\\site-packages\\gym\\envs\\registration.py\u001b[0m in \u001b[0;36mmake\u001b[1;34m(id, **kwargs)\u001b[0m\n\u001b[0;32m    233\u001b[0m \u001b[1;33m\u001b[0m\u001b[0m\n\u001b[0;32m    234\u001b[0m \u001b[1;32mdef\u001b[0m \u001b[0mmake\u001b[0m\u001b[1;33m(\u001b[0m\u001b[0mid\u001b[0m\u001b[1;33m,\u001b[0m \u001b[1;33m**\u001b[0m\u001b[0mkwargs\u001b[0m\u001b[1;33m)\u001b[0m\u001b[1;33m:\u001b[0m\u001b[1;33m\u001b[0m\u001b[1;33m\u001b[0m\u001b[0m\n\u001b[1;32m--> 235\u001b[1;33m     \u001b[1;32mreturn\u001b[0m \u001b[0mregistry\u001b[0m\u001b[1;33m.\u001b[0m\u001b[0mmake\u001b[0m\u001b[1;33m(\u001b[0m\u001b[0mid\u001b[0m\u001b[1;33m,\u001b[0m \u001b[1;33m**\u001b[0m\u001b[0mkwargs\u001b[0m\u001b[1;33m)\u001b[0m\u001b[1;33m\u001b[0m\u001b[1;33m\u001b[0m\u001b[0m\n\u001b[0m\u001b[0;32m    236\u001b[0m \u001b[1;33m\u001b[0m\u001b[0m\n\u001b[0;32m    237\u001b[0m \u001b[1;33m\u001b[0m\u001b[0m\n",
      "\u001b[1;32m~\\anaconda3\\envs\\RL_env\\lib\\site-packages\\gym\\envs\\registration.py\u001b[0m in \u001b[0;36mmake\u001b[1;34m(self, path, **kwargs)\u001b[0m\n\u001b[0;32m    126\u001b[0m         \u001b[1;32melse\u001b[0m\u001b[1;33m:\u001b[0m\u001b[1;33m\u001b[0m\u001b[1;33m\u001b[0m\u001b[0m\n\u001b[0;32m    127\u001b[0m             \u001b[0mlogger\u001b[0m\u001b[1;33m.\u001b[0m\u001b[0minfo\u001b[0m\u001b[1;33m(\u001b[0m\u001b[1;34m\"Making new env: %s\"\u001b[0m\u001b[1;33m,\u001b[0m \u001b[0mpath\u001b[0m\u001b[1;33m)\u001b[0m\u001b[1;33m\u001b[0m\u001b[1;33m\u001b[0m\u001b[0m\n\u001b[1;32m--> 128\u001b[1;33m         \u001b[0mspec\u001b[0m \u001b[1;33m=\u001b[0m \u001b[0mself\u001b[0m\u001b[1;33m.\u001b[0m\u001b[0mspec\u001b[0m\u001b[1;33m(\u001b[0m\u001b[0mpath\u001b[0m\u001b[1;33m)\u001b[0m\u001b[1;33m\u001b[0m\u001b[1;33m\u001b[0m\u001b[0m\n\u001b[0m\u001b[0;32m    129\u001b[0m         \u001b[0menv\u001b[0m \u001b[1;33m=\u001b[0m \u001b[0mspec\u001b[0m\u001b[1;33m.\u001b[0m\u001b[0mmake\u001b[0m\u001b[1;33m(\u001b[0m\u001b[1;33m**\u001b[0m\u001b[0mkwargs\u001b[0m\u001b[1;33m)\u001b[0m\u001b[1;33m\u001b[0m\u001b[1;33m\u001b[0m\u001b[0m\n\u001b[0;32m    130\u001b[0m         \u001b[1;32mreturn\u001b[0m \u001b[0menv\u001b[0m\u001b[1;33m\u001b[0m\u001b[1;33m\u001b[0m\u001b[0m\n",
      "\u001b[1;32m~\\anaconda3\\envs\\RL_env\\lib\\site-packages\\gym\\envs\\registration.py\u001b[0m in \u001b[0;36mspec\u001b[1;34m(self, path)\u001b[0m\n\u001b[0;32m    201\u001b[0m                 )\n\u001b[0;32m    202\u001b[0m             \u001b[1;32melse\u001b[0m\u001b[1;33m:\u001b[0m\u001b[1;33m\u001b[0m\u001b[1;33m\u001b[0m\u001b[0m\n\u001b[1;32m--> 203\u001b[1;33m                 \u001b[1;32mraise\u001b[0m \u001b[0merror\u001b[0m\u001b[1;33m.\u001b[0m\u001b[0mUnregisteredEnv\u001b[0m\u001b[1;33m(\u001b[0m\u001b[1;34m\"No registered env with id: {}\"\u001b[0m\u001b[1;33m.\u001b[0m\u001b[0mformat\u001b[0m\u001b[1;33m(\u001b[0m\u001b[0mid\u001b[0m\u001b[1;33m)\u001b[0m\u001b[1;33m)\u001b[0m\u001b[1;33m\u001b[0m\u001b[1;33m\u001b[0m\u001b[0m\n\u001b[0m\u001b[0;32m    204\u001b[0m \u001b[1;33m\u001b[0m\u001b[0m\n\u001b[0;32m    205\u001b[0m     \u001b[1;32mdef\u001b[0m \u001b[0mregister\u001b[0m\u001b[1;33m(\u001b[0m\u001b[0mself\u001b[0m\u001b[1;33m,\u001b[0m \u001b[0mid\u001b[0m\u001b[1;33m,\u001b[0m \u001b[1;33m**\u001b[0m\u001b[0mkwargs\u001b[0m\u001b[1;33m)\u001b[0m\u001b[1;33m:\u001b[0m\u001b[1;33m\u001b[0m\u001b[1;33m\u001b[0m\u001b[0m\n",
      "\u001b[1;31mUnregisteredEnv\u001b[0m: No registered env with id: Freeway-ram-v0"
     ]
    }
   ],
   "source": [
    "# 게임 학습을 위해 초기화\n",
    "import gym\n",
    "from collections import deque\n",
    "\n",
    "env = gym.make('Freeway-ram-v0')             # 환경 생성\n",
    "aspace = 3                                   # 동작 개수\n",
    "env.env.get_action_meanings()\n",
    "vmin, vmax = -10, 10                         # 지지집합의 최솟값, 최댓값\n",
    "replay_size = 200                            # 재현 크기\n",
    "batch_size = 50                              # 배치 크기\n",
    "nsup = 51                                    # 지지집합 개수\n",
    "dz = (vmax-vmin)/(nsup-1)                    # 지지집합 공차\n",
    "support = torch.linspace(vmin, vmax, nsup)   # 지지집합 생성\n",
    "\n",
    "replay = deque(maxlen=replay_size)           # 경험 재현 목록\n",
    "lr = 0.0001                                  # 학습률\n",
    "gamma = 0.1                                  # 할인 계수\n",
    "epochs = 13000                               # 반복 학습 횟수\n",
    "eps = 0.20                                   # 엡실론 : 탐험에 사용\n",
    "eps_min = 0.05                               # 엡실론 최솟값\n",
    "priority_level = 5                           # 우선순위가 높은 경험 복사본 개수\n",
    "update_freq = 25                             # 목표망 갱신 간격\n",
    "\n",
    "tot_params = 128*100 + 25*100 + asapce*25*51 # 신경망 매개변수 개수\n",
    "theta = torch.randn(tot_params)/10.           # 주 신경망 매개변수\n",
    "theta.requires_grad = True\n",
    "theta_2 = theta.detach().clone()              # 목표망 매개변수\n",
    "\n",
    "losses = []                                   # 손실값\n",
    "cum_rewards = []                              # 게임 승리 배열 ( 승리 시 1 추가 )\n",
    "renders = []\n",
    "state = preproc_state(env.reset())"
   ]
  },
  {
   "cell_type": "code",
   "execution_count": null,
   "id": "fe11b4e2",
   "metadata": {},
   "outputs": [],
   "source": [
    "from random import shuffle\n",
    "\n",
    "# epochs만큼 훈련 반복\n",
    "for i in range(epochs):\n",
    "    # 주 신경망으로 분산 예측\n",
    "    pred = dist_dqn(state, theta, asapce=aspace)\n",
    "    \n",
    "    # 엡실론 전략으로 동작 선택\n",
    "    if i < replay_size or np.random.rand(1) < eps:\n",
    "        action = np.random.randint(aspace)\n",
    "    else:\n",
    "        action = get_action(pred.unsqueeze(dim=0).detach(), support).item()\n",
    "        \n",
    "    # 환경 실행 및 상태 전처리\n",
    "    state2, reward, done, info = env.step(action)\n",
    "    state2 = preproc_state(state2)\n",
    "    \n",
    "    # 얻은 보상이 1이면 게임 승리, 배열에 추가\n",
    "    if reward == 1: cum_rewards.append(1)\n",
    "\n",
    "    # 환경에서 얻은 보상 처리\n",
    "    reward = 10 if reward == 1 else reward\n",
    "    reward = -10 if done else reward\n",
    "    reward = -1 if reward == 0 else reward\n",
    "    \n",
    "    # 경험을 튜플로 저장해서 재현 목록에 추가\n",
    "    exp = (state, action, reward, state2)\n",
    "    repaly.append(exp)\n",
    "    \n",
    "    # 게임 승리 시 우선순위가 높은 경험으로 간주하고 priority_level만큼 재현 목록에 추가 ( 경험 증폭 )\n",
    "    if reward == 10:\n",
    "        for e in range(priority_level):\n",
    "            replay.append(exp)\n",
    "            \n",
    "    # 재현 목록 섞고, 상태 전이\n",
    "    shuffle(replay)\n",
    "    state = state2\n",
    "    \n",
    "    # 재현 목록이 다 차면 훈련 시작\n",
    "    if len(replay) === replay_size:\n",
    "        # 재현 목록에서 랜덤 배치 추출\n",
    "        indx = np.random.randint(low=0, high=len(replay), size=batch_size)\n",
    "        exps = [replay[j] for j in indx]\n",
    "        \n",
    "        # 배치를 통해 상태, 동작, 보상, 다음 상태 배열 생성\n",
    "        state_batch = torch.stack([ex[0] for ex in exps], dim=1).squeeze()\n",
    "        action_batch = torch.Tensor([ex[1] for ex in exps])\n",
    "        reward_batch = torch.Tensor([ex[2] for ex in exps])\n",
    "        state2_batch = torch.stack([ex[3] for ex in exps], dim=1).squeeze()\n",
    "        \n",
    "        # 위에서 얻은 상태와 다음 상태 배치를 통해서 분포 예측, 목표 분포 생성\n",
    "        pred_batch = dist_dqn(state_batch.detach(), theta_2, aspace=aspace)\n",
    "        pred2_batch = dist_dqn(state2_batch.detach(), theta_2, asapce=aspace)\n",
    "        target_dist = get_target_dist(pred2_batch, action_batch, reward_batch, support, lim=(vmin,vmax), gamma=gamma)\n",
    "        \n",
    "        # 손실 계산\n",
    "        loss = lossfn(pred_batch, target_dist.detach())\n",
    "        losses.append(loss.item())\n",
    "        loss.backword()\n",
    "        \n",
    "        # 경사 하강법으로 주 신경망 갱신\n",
    "        with torch.no_grad():\n",
    "            theta -= lr * theta.grad\n",
    "        theta.requires_grad = True\n",
    "        \n",
    "    # update_freq 마다 목표망 갱신\n",
    "    if i % update_freq == 0:\n",
    "        theta_2 = theta.detach().clone()\n",
    "        \n",
    "    # 엡실론 조절\n",
    "    if i > 100 and eps > eps_min:\n",
    "        dec = 1./np.log2(i)\n",
    "        dec /= le3\n",
    "        eps -= dec\n",
    "        \n",
    "    # 게임 종료시 환경 초기화\n",
    "    if done:\n",
    "        state = preproc_state(env.reset())\n",
    "        done = False"
   ]
  }
 ],
 "metadata": {
  "kernelspec": {
   "display_name": "RL_env",
   "language": "python",
   "name": "rl_env"
  },
  "language_info": {
   "codemirror_mode": {
    "name": "ipython",
    "version": 3
   },
   "file_extension": ".py",
   "mimetype": "text/x-python",
   "name": "python",
   "nbconvert_exporter": "python",
   "pygments_lexer": "ipython3",
   "version": "3.7.11"
  }
 },
 "nbformat": 4,
 "nbformat_minor": 5
}
